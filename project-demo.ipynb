{
  "nbformat": 4,
  "nbformat_minor": 0,
  "metadata": {
    "colab": {
      "provenance": [],
      "machine_shape": "hm",
      "gpuType": "T4"
    },
    "kernelspec": {
      "name": "python3",
      "display_name": "Python 3"
    },
    "language_info": {
      "name": "python"
    },
    "accelerator": "GPU"
  },
  "cells": [
    {
      "cell_type": "markdown",
      "source": [
        "# Github\n",
        "\n",
        "https://github.com/yhuang0701/Context-aware-Health-Event-Prediction-via-Transition-Functions-on-Dynamic-Disease-Graphs"
      ],
      "metadata": {
        "id": "aES8Eghy6SD6"
      }
    },
    {
      "cell_type": "markdown",
      "source": [
        "# Mount Notebook to Google Drive"
      ],
      "metadata": {
        "id": "dlv6knX04FiY"
      }
    },
    {
      "cell_type": "code",
      "source": [
        "from google.colab import drive\n",
        "drive.mount('/content/drive')"
      ],
      "metadata": {
        "id": "sfk8Zrul_E8V",
        "colab": {
          "base_uri": "https://localhost:8080/"
        },
        "outputId": "7db1b754-fb39-4a98-d839-311037a4144d"
      },
      "execution_count": 1,
      "outputs": [
        {
          "output_type": "stream",
          "name": "stdout",
          "text": [
            "Mounted at /content/drive\n"
          ]
        }
      ]
    },
    {
      "cell_type": "code",
      "source": [
        "!pwd"
      ],
      "metadata": {
        "id": "Lv7F-oPiOo6t",
        "colab": {
          "base_uri": "https://localhost:8080/"
        },
        "outputId": "381b4f31-5866-4848-9549-3e297ff5ec4f"
      },
      "execution_count": null,
      "outputs": [
        {
          "output_type": "stream",
          "name": "stdout",
          "text": [
            "/content\n"
          ]
        }
      ]
    },
    {
      "cell_type": "markdown",
      "source": [
        "# Introduction\n"
      ],
      "metadata": {
        "id": "MQ0sNuMePBXx"
      }
    },
    {
      "cell_type": "markdown",
      "source": [
        "* Chang Lu, Tian Han, and Yue Ning present a groundbreaking approach to predicting health events using electronic health records (EHRs) in a paper titled \"Context-Aware Health Eve\n",
        "nt Prediction via Transformation Functions on Dynamic Disease Maps.\" This research addresses the shortcomings of existing health prediction models that typically treat diseases as static and isolated entities. Instead, it proposes a model that views diseases dynamically and interconnects them, thereby greatly improving the prediction of health events.\n",
        "\n",
        "* The main contributions of this research include the development of a context-aware learning framework that incorporates transition functions on a dynamic disease graph. The framework consists of constructing a global disease co-occurrence graph to model the interactions of various diseases over time, supplemented with dynamic subgraphs for each patient visit. These subgraphs reflect both the overall disease interactions and the specific history of the patient, allowing for a comprehensive and detailed analysis of disease progression.\n",
        "\n",
        "* In addition, the model introduces a transition function that divides the diagnosis into three roles: persistent disease, emerging neighboring disease, and emerging unrelated disease. These roles help to simulate the process of disease transition, and by utilizing both historical and current health data, the predictive accuracy of the model is greatly improved.\n",
        "\n",
        "* The utility and effectiveness of this innovative approach is demonstrated through extensive experiments using real-world electronic medical record datasets, which show superior performance in predicting health events compared to existing state-of-the-art models. This success highlights the framework's ability to deal with the dynamic nature of disease progression and underscores its potential to revolutionize prediction methods in healthcare settings.\n",
        "\n",
        "* In summary, this research significantly advances the field of health event prediction by employing advanced graph theory and machine learning techniques. Such dynamic and context-aware models not only improve prediction accuracy, but also enhance the understanding of complex disease interaction patterns, paving the way for improved clinical decision-making and personalized patient care."
      ],
      "metadata": {
        "id": "rE_lqkXudfdw"
      }
    },
    {
      "cell_type": "markdown",
      "source": [
        "# Scope of Reproducibility:\n"
      ],
      "metadata": {
        "id": "HaaXGhRRd0-H"
      }
    },
    {
      "cell_type": "markdown",
      "source": [
        "## Hypothesis 1:  Dynamic disease maps improve prediction accuracy more than static models.\n",
        "\n",
        "To test this hypothesis, we will replicate the experiments conducted in the original study using the provided EHR dataset. We will compare the performance of the proposed dynamic graph model with a baseline model that treats disease data as static (e.g., a traditional machine learning model without temporal or relational context).\n",
        "\n",
        "## Hypothesis 2: Increasing the dropout rate in the model will improve its generalization on the validation set by reducing overfitting.\n",
        "To address this hypothesis, we will design experiments to modify these rates, run the model, and compare the performance in terms of loss, F1-score, and other relevant metrics."
      ],
      "metadata": {
        "id": "KcsQ0ZYIrL6J"
      }
    },
    {
      "cell_type": "markdown",
      "source": [
        "# Methodology"
      ],
      "metadata": {
        "id": "7oyUv4rMhPbr"
      }
    },
    {
      "cell_type": "markdown",
      "source": [
        "The methodology section of our reproducibility study aims to rigorously test the hypotheses presented in the original paper, \"Context-aware health event prediction via transformation functions on dynamic disease maps.\" This section is organized into five sections: environment, data, model, training, and evaluation. Each section includes comprehensive details and runnable code, as well as annotations needed to replicate the experiments and validate the original research statement."
      ],
      "metadata": {
        "id": "kZAK1jSV7aow"
      }
    },
    {
      "cell_type": "markdown",
      "source": [
        "## Environment\n",
        "\n",
        "\n"
      ],
      "metadata": {
        "id": "96LU_AXdr0zY"
      }
    },
    {
      "cell_type": "markdown",
      "source": [
        "Below is the environment the original paper mentioned. (This is also mentioned in the original paper's github repo, and stored in the reuirements.txt):\n",
        "\n",
        "\n",
        "\n",
        "```\n",
        "joblib==1.0.1\n",
        "numpy==1.20.2\n",
        "pandas==1.2.3\n",
        "Pillow==8.2.0\n",
        "python-dateutil==2.8.1\n",
        "pytz==2021.1\n",
        "scikit-learn==0.24.1\n",
        "scipy==1.6.2\n",
        "six==1.15.0\n",
        "threadpoolctl==2.1.0\n",
        "torch==1.8.1+cu111\n",
        "torchaudio==0.8.1\n",
        "torchvision==0.9.1+cu111\n",
        "typing-extensions==3.7.4.3\n",
        "```\n",
        "\n",
        "For Google Colab, we simply can run all codes without setup the environment.\n",
        "\n",
        "The next cell is the command to setup the environment on Google Colab (if needed)."
      ],
      "metadata": {
        "id": "rLrQIkoCxu2K"
      }
    },
    {
      "cell_type": "code",
      "source": [
        "# !pip install -r '/content/drive/MyDrive/CS598HLO/Chet/requirements.txt'"
      ],
      "metadata": {
        "id": "f37rb0ZDoMiX"
      },
      "execution_count": null,
      "outputs": []
    },
    {
      "cell_type": "markdown",
      "source": [
        "## Data"
      ],
      "metadata": {
        "id": "kor7JKppxntb"
      }
    },
    {
      "cell_type": "markdown",
      "source": [
        "### Source of the Data"
      ],
      "metadata": {
        "id": "3YnmacQlqgD7"
      }
    },
    {
      "cell_type": "markdown",
      "source": [
        "The data we used in this experiment is the MIMIC-III Clinical Database Dataset which could be found here: https://physionet.org/content/mimiciii/1.4/.\n",
        "\n",
        "This detaset needs to gain credentials before use, more detailed instructions on how to gain access of the dataset is on their official website.\n",
        "\n",
        "Specifically, we only need to use the ADMISSIONS.csv and DIAGNOSES_ICD.csv dataset in this project.\n",
        "\n",
        "**Once you have the authority for the dataset, download the dataset and extract the csv files to data/mimic3/raw/ in the file location you cloned from the original github repo: (https://github.com/luchang-cs/chet)**"
      ],
      "metadata": {
        "id": "uembPND6ylzK"
      }
    },
    {
      "cell_type": "markdown",
      "source": [
        "Note: In the original paper, the authors choose to use the MIMIC-III and MIMIC-IV dataset. In our project, we only focused on experiments with MIMIC-III dataset."
      ],
      "metadata": {
        "id": "04uFJWwsuU7B"
      }
    },
    {
      "cell_type": "markdown",
      "source": [
        "### MIMIC-III Dataset Description"
      ],
      "metadata": {
        "id": "HTiGXkCSvVqb"
      }
    },
    {
      "cell_type": "markdown",
      "source": [
        "MIMIC-III is a relational database consisting of 26 tables. Tables are linked by identifiers which usually have the suffix ‘ID’. For example, SUBJECT_ID refers to a unique patient, HADM_ID refers to a unique admission to the hospital, and ICUSTAY_ID refers to a unique admission to an intensive care unit.\n",
        "\n",
        "Broadly speaking, five tables are used to define and track patient stays: ADMISSIONS; PATIENTS; ICUSTAYS; SERVICES; and TRANSFERS. Another five tables are dictionaries for cross-referencing codes against their respective definitions: D_CPT; D_ICD_DIAGNOSES; D_ICD_PROCEDURES; D_ITEMS; and D_LABITEMS. The remaining tables contain data associated with patient care, such as physiological measurements, caregiver observations, and billing information.\n",
        "\n",
        "Below is the statistical information of MIMIC-III and MIMIC-IV dataset:\n",
        "\n",
        "![image.png](data:image/png;base64,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)"
      ],
      "metadata": {
        "id": "pTPoU5UYxLrr"
      }
    },
    {
      "cell_type": "markdown",
      "source": [
        "### Data Preprocess:\n",
        "\n"
      ],
      "metadata": {
        "id": "rL84hagwtszF"
      }
    },
    {
      "cell_type": "markdown",
      "source": [
        "The original paper built three different kind of graph based on the dataset:\n",
        "\n",
        "**Local diagnosis graph $G^t_D$**. It is a complete graph consisting of diagnoses in visit $t$. We use an adjacency matrix $M^t \\in \\mathbb{R}^{d \\times d}$ to represent $G^t_D$. $M^t_{ij} = A_{ij}$ if $c_i$ and $c_j$ are diagnosed in visit $t$. Otherwise $M^t_{ij} = 0$.\n",
        "\n",
        "**Global diagnosis-neighbor graph $G^t_{DN}$**. It is a bipartite graph describing the connection of diagnoses in visit $t$ and their neighbors (connected diseases but not diagnosis in visit $t$) in $G$. We use an adjacency matrix $B^t \\in \\mathbb{R}^{d \\times d}$ to represent connections from diagnoses to neighbors. $B^t_{ij} = A_{ij}$ if $c_i$ is diagnosed in visit $t$ and $c_j$ is a neighbor of $c_i$ in $G$ and $c_j$ is not diagnosed in visit $t$. Otherwise $B^t_{ij} = 0$. For opposite connections, since $A$ is asymmetric, the transpose of $B^t$ cannot be used. We use another matrix $\\tilde{B}^t$ instead to denote neighbor-diagnosis edges. It is calculated in a similar manner to $B^t_{ij}$.\n",
        "\n",
        "**Global neighbor graph $G^t_N$**. It is a graph for neighbors in visit $t$. We use an adjacency matrix $N^t \\in \\mathbb{R}^{d \\times d}$ to represent $G^t_N$. $N^t_{ij} = A_{ij}$ if $c_i$ and $c_j$ are two neighbors and are not diagnosed in visit $t$. Otherwise $N^t_{ij} = 0$.\n",
        "\n"
      ],
      "metadata": {
        "id": "-7Jyn9hN0PHK"
      }
    },
    {
      "cell_type": "markdown",
      "source": [
        "Below is the preprocess code to construct the graphs and split the dataset to train/valid/test set:"
      ],
      "metadata": {
        "id": "RCWRRlHM4ALg"
      }
    },
    {
      "cell_type": "code",
      "source": [
        "!cp -r '/content/drive/MyDrive/CS598HLO/Chet/preprocess' ."
      ],
      "metadata": {
        "id": "INnDP-K9mXa6"
      },
      "execution_count": 2,
      "outputs": []
    },
    {
      "cell_type": "code",
      "source": [
        "import os\n",
        "import pickle\n",
        "from preprocess import save_sparse, save_data\n",
        "from preprocess.parse_csv import Mimic3Parser, Mimic4Parser, EICUParser\n",
        "from preprocess.encode import encode_code\n",
        "from preprocess.build_dataset import split_patients, build_code_xy, build_heart_failure_y\n",
        "from preprocess.auxiliary import generate_code_code_adjacent, generate_neighbors, normalize_adj, divide_middle, generate_code_levels\n",
        "\n",
        "\n",
        "conf = {\n",
        "      'mimic3': {\n",
        "          'parser': Mimic3Parser,\n",
        "          'train_num': 6000,\n",
        "          'test_num': 1000,\n",
        "          'threshold': 0.01\n",
        "      },\n",
        "      'mimic4': {\n",
        "          'parser': Mimic4Parser,\n",
        "          'train_num': 8000,\n",
        "          'test_num': 1000,\n",
        "          'threshold': 0.01,\n",
        "          'sample_num': 10000\n",
        "      },\n",
        "      'eicu': {\n",
        "          'parser': EICUParser,\n",
        "          'train_num': 8000,\n",
        "          'test_num': 1000,\n",
        "          'threshold': 0.01\n",
        "      }\n",
        "  }\n",
        "from_saved = False\n",
        "data_path = '/content/drive/MyDrive/CS598HLO/Chet/data/'\n",
        "dataset = 'mimic3'  # mimic3, eicu, or mimic4\n",
        "dataset_path = os.path.join(data_path, dataset)\n",
        "raw_path = os.path.join(dataset_path, 'raw')\n",
        "if not os.path.exists(raw_path):\n",
        "    os.makedirs(raw_path)\n",
        "    print('please put the CSV files in `data/%s/raw`' % dataset)\n",
        "    exit()\n",
        "parsed_path = os.path.join(dataset_path, 'parsed')\n",
        "if from_saved:\n",
        "    patient_admission = pickle.load(open(os.path.join(parsed_path, 'patient_admission.pkl'), 'rb'))\n",
        "    admission_codes = pickle.load(open(os.path.join(parsed_path, 'admission_codes.pkl'), 'rb'))\n",
        "else:\n",
        "    parser = conf[dataset]['parser'](raw_path)\n",
        "    sample_num = conf[dataset].get('sample_num', None)\n",
        "    patient_admission, admission_codes = parser.parse(sample_num)\n",
        "    print('saving parsed data ...')\n",
        "    if not os.path.exists(parsed_path):\n",
        "        os.makedirs(parsed_path)\n",
        "    pickle.dump(patient_admission, open(os.path.join(parsed_path, 'patient_admission.pkl'), 'wb'))\n",
        "    pickle.dump(admission_codes, open(os.path.join(parsed_path, 'admission_codes.pkl'), 'wb'))\n",
        "\n",
        "patient_num = len(patient_admission)\n",
        "max_admission_num = max([len(admissions) for admissions in patient_admission.values()])\n",
        "avg_admission_num = sum([len(admissions) for admissions in patient_admission.values()]) / patient_num\n",
        "max_visit_code_num = max([len(codes) for codes in admission_codes.values()])\n",
        "avg_visit_code_num = sum([len(codes) for codes in admission_codes.values()]) / len(admission_codes)\n",
        "print('patient num: %d' % patient_num)\n",
        "print('max admission num: %d' % max_admission_num)\n",
        "print('mean admission num: %.2f' % avg_admission_num)\n",
        "print('max code num in an admission: %d' % max_visit_code_num)\n",
        "print('mean code num in an admission: %.2f' % avg_visit_code_num)\n",
        "\n",
        "print('encoding code ...')\n",
        "admission_codes_encoded, code_map = encode_code(patient_admission, admission_codes)\n",
        "code_num = len(code_map)\n",
        "print('There are %d codes' % code_num)\n",
        "\n",
        "code_levels = generate_code_levels(data_path, code_map)\n",
        "pickle.dump({\n",
        "    'code_levels': code_levels,\n",
        "}, open(os.path.join(parsed_path, 'code_levels.pkl'), 'wb'))\n",
        "\n",
        "train_pids, valid_pids, test_pids = split_patients(\n",
        "    patient_admission=patient_admission,\n",
        "    admission_codes=admission_codes,\n",
        "    code_map=code_map,\n",
        "    train_num=conf[dataset]['train_num'],\n",
        "    test_num=conf[dataset]['test_num']\n",
        ")\n",
        "print('There are %d train, %d valid, %d test samples' % (len(train_pids), len(valid_pids), len(test_pids)))\n",
        "code_adj = generate_code_code_adjacent(pids=train_pids, patient_admission=patient_admission,\n",
        "                                        admission_codes_encoded=admission_codes_encoded,\n",
        "                                        code_num=code_num, threshold=conf[dataset]['threshold'])\n",
        "\n",
        "common_args = [patient_admission, admission_codes_encoded, max_admission_num, code_num]\n",
        "print('building train codes features and labels ...')\n",
        "(train_code_x, train_codes_y, train_visit_lens) = build_code_xy(train_pids, *common_args)\n",
        "print('building valid codes features and labels ...')\n",
        "(valid_code_x, valid_codes_y, valid_visit_lens) = build_code_xy(valid_pids, *common_args)\n",
        "print('building test codes features and labels ...')\n",
        "(test_code_x, test_codes_y, test_visit_lens) = build_code_xy(test_pids, *common_args)\n",
        "\n",
        "print('generating train neighbors ...')\n",
        "train_neighbors = generate_neighbors(train_code_x, train_visit_lens, code_adj)\n",
        "print('generating valid neighbors ...')\n",
        "valid_neighbors = generate_neighbors(valid_code_x, valid_visit_lens, code_adj)\n",
        "print('generating test neighbors ...')\n",
        "test_neighbors = generate_neighbors(test_code_x, test_visit_lens, code_adj)\n",
        "\n",
        "print('generating train middles ...')\n",
        "train_divided = divide_middle(train_code_x, train_neighbors, train_visit_lens)\n",
        "print('generating valid middles ...')\n",
        "valid_divided = divide_middle(valid_code_x, valid_neighbors, valid_visit_lens)\n",
        "print('generating test middles ...')\n",
        "test_divided = divide_middle(test_code_x, test_neighbors, test_visit_lens)\n",
        "\n",
        "print('building train heart failure labels ...')\n",
        "train_hf_y = build_heart_failure_y('428', train_codes_y, code_map)\n",
        "print('building valid heart failure labels ...')\n",
        "valid_hf_y = build_heart_failure_y('428', valid_codes_y, code_map)\n",
        "print('building test heart failure labels ...')\n",
        "test_hf_y = build_heart_failure_y('428', test_codes_y, code_map)\n",
        "\n",
        "encoded_path = os.path.join(dataset_path, 'encoded')\n",
        "if not os.path.exists(encoded_path):\n",
        "    os.makedirs(encoded_path)\n",
        "print('saving encoded data ...')\n",
        "pickle.dump(patient_admission, open(os.path.join(encoded_path, 'patient_admission.pkl'), 'wb'))\n",
        "pickle.dump(admission_codes_encoded, open(os.path.join(encoded_path, 'codes_encoded.pkl'), 'wb'))\n",
        "pickle.dump(code_map, open(os.path.join(encoded_path, 'code_map.pkl'), 'wb'))\n",
        "pickle.dump({\n",
        "    'train_pids': train_pids,\n",
        "    'valid_pids': valid_pids,\n",
        "    'test_pids': test_pids\n",
        "}, open(os.path.join(encoded_path, 'pids.pkl'), 'wb'))\n",
        "\n",
        "print('saving standard data ...')\n",
        "standard_path = os.path.join(dataset_path, 'standard')\n",
        "train_path = os.path.join(standard_path, 'train')\n",
        "valid_path = os.path.join(standard_path, 'valid')\n",
        "test_path = os.path.join(standard_path, 'test')\n",
        "if not os.path.exists(standard_path):\n",
        "    os.makedirs(standard_path)\n",
        "if not os.path.exists(train_path):\n",
        "    os.makedirs(train_path)\n",
        "    os.makedirs(valid_path)\n",
        "    os.makedirs(test_path)\n",
        "\n",
        "print('\\tsaving training data')\n",
        "save_data(train_path, train_code_x, train_visit_lens, train_codes_y, train_hf_y, train_divided, train_neighbors)\n",
        "print('\\tsaving valid data')\n",
        "save_data(valid_path, valid_code_x, valid_visit_lens, valid_codes_y, valid_hf_y, valid_divided, valid_neighbors)\n",
        "print('\\tsaving test data')\n",
        "save_data(test_path, test_code_x, test_visit_lens, test_codes_y, test_hf_y, test_divided, test_neighbors)\n",
        "\n",
        "code_adj = normalize_adj(code_adj)\n",
        "save_sparse(os.path.join(standard_path, 'code_adj'), code_adj)\n"
      ],
      "metadata": {
        "id": "xhNjfA7PkjNQ",
        "colab": {
          "base_uri": "https://localhost:8080/"
        },
        "outputId": "0f7064e6-0d02-4451-a3d8-5033a36dbc3e"
      },
      "execution_count": 3,
      "outputs": [
        {
          "output_type": "stream",
          "name": "stdout",
          "text": [
            "parsing the csv file of admission ...\n",
            "\t58976 in 58976 rows\n",
            "parsing csv file of diagnosis ...\n",
            "\t651047 in 651047 rows\n",
            "calibrating patients by admission ...\n",
            "calibrating admission by patients ...\n",
            "saving parsed data ...\n",
            "patient num: 7493\n",
            "max admission num: 42\n",
            "mean admission num: 2.66\n",
            "max code num in an admission: 39\n",
            "mean code num in an admission: 13.06\n",
            "encoding code ...\n",
            "There are 4880 codes\n",
            "generating code levels ...\n",
            "\t100%\n",
            "There are 6000 train, 493 valid, 1000 test samples\n",
            "generating code code adjacent matrix ...\n",
            "\t6000 / 6000\n",
            "building train codes features and labels ...\n",
            "\t6000 / 6000\n",
            "building valid codes features and labels ...\n",
            "\t493 / 493\n",
            "building test codes features and labels ...\n",
            "\t1000 / 1000\n",
            "generating train neighbors ...\n",
            "\t6000 / 6000\n",
            "generating valid neighbors ...\n",
            "\t493 / 493\n",
            "generating test neighbors ...\n",
            "\t1000 / 1000\n",
            "generating train middles ...\n",
            "\t6000 / 6000\n",
            "generating valid middles ...\n",
            "\t493 / 493\n",
            "generating test middles ...\n",
            "\t1000 / 1000\n",
            "building train heart failure labels ...\n",
            "building valid heart failure labels ...\n",
            "building test heart failure labels ...\n",
            "saving encoded data ...\n",
            "saving standard data ...\n",
            "\tsaving training data\n",
            "\tsaving valid data\n",
            "\tsaving test data\n"
          ]
        }
      ]
    },
    {
      "cell_type": "markdown",
      "source": [
        "### Statistics\n",
        "The MIMIC-III dataset containes 7493 patient records. Running the above proprocessing pipeline will split the dataset to train/val/test set with choices of 6000/493/1000, respectively.\n",
        "\n",
        "In summary, the dataset statistic is:\n",
        "\n",
        "* patient num: 7493\n",
        "* max admission num: 42\n",
        "* mean admission num: 2.66\n",
        "* max code num in an admission: 39\n",
        "* mean code num in an admission: 13.06\n",
        "\n",
        "For the heart failure labels, we choose 1 for having this discase, and 0 for not having this disease."
      ],
      "metadata": {
        "id": "8yGv6gabhbiC"
      }
    },
    {
      "cell_type": "markdown",
      "source": [
        "##   Model"
      ],
      "metadata": {
        "id": "3muyDPFPbozY"
      }
    },
    {
      "cell_type": "markdown",
      "source": [
        "### Citation"
      ],
      "metadata": {
        "id": "YMAr_ghn6icd"
      }
    },
    {
      "cell_type": "markdown",
      "source": [
        "Lu, C., Han, T., & Ning, Y. (2021). Context-aware Health Event Prediction via Transition Functions on Dynamic Disease Graphs. ArXiv. /abs/2112.05195\n",
        "\n",
        "Github Repo: (https://github.com/luchang-cs/chet)"
      ],
      "metadata": {
        "id": "qAX7so9C7_kJ"
      }
    },
    {
      "cell_type": "markdown",
      "source": [
        "### Model Description\n",
        "\n"
      ],
      "metadata": {
        "id": "9yLch_b6wFHy"
      }
    },
    {
      "cell_type": "markdown",
      "source": [
        "* Architecture: The proposed model, Chet, uses a novel context-aware learning framework that utilizes dynamic graphs constructed from patient Electronic Health Record (EHR) data to predict health events. The model architecture includes:\n",
        "\n",
        "  * **Global Disease Combination Graph**: A weighted graph with nodes representing disease combinations derived from historical diagnosis data.\n",
        "  * **Dynamic Subgraphs**: For each patient visit, dynamic subgraphs are created to represent local and global contexts involving the diseases diagnosed in that visit.\n",
        "  * **Graph Neural Network (GNN)**: Used to learn from the dynamic graphs, integrating both the local context of a visit and the global context from historical data.\n",
        "  * **Transition Functions**: Defined for various diagnosis roles to model the disease transition process across different visits.\n",
        "\n",
        "* Activation Function: The model uses the **LeakyReLU** activation function in its graph neural network layers to manage non-linearity.\n",
        "\n",
        "* Training Objectives:\n",
        "  * Loss Function: **Binary Cross-Entropy** loss is used for training, suitable for the multi-label classification tasks such as predicting multiple medical diagnoses.\n",
        "  * Optimizer: The **Adam optimizer** is employed to minimize the loss function, facilitating efficient convergence."
      ],
      "metadata": {
        "id": "e1GgcGgj8YKh"
      }
    },
    {
      "cell_type": "markdown",
      "source": [
        "### Implementation Code"
      ],
      "metadata": {
        "id": "6w44jlwE-aRP"
      }
    },
    {
      "cell_type": "markdown",
      "source": [
        "Below is the model implementation code:"
      ],
      "metadata": {
        "id": "BU7N2Ngq-fIZ"
      }
    },
    {
      "cell_type": "code",
      "source": [
        "import math\n",
        "\n",
        "import torch\n",
        "from torch import nn"
      ],
      "metadata": {
        "id": "20JPjEcricVw"
      },
      "execution_count": 4,
      "outputs": []
    },
    {
      "cell_type": "code",
      "source": [
        "class SingleHeadAttentionLayer(nn.Module):\n",
        "    def __init__(self, query_size, key_size, value_size, attention_size):\n",
        "        super().__init__()\n",
        "        self.attention_size = attention_size\n",
        "        self.dense_q = nn.Linear(query_size, attention_size)\n",
        "        self.dense_k = nn.Linear(key_size, attention_size)\n",
        "        self.dense_v = nn.Linear(query_size, value_size)\n",
        "\n",
        "    def forward(self, q, k, v):\n",
        "        query = self.dense_q(q)\n",
        "        key = self.dense_k(k)\n",
        "        value = self.dense_v(v)\n",
        "        g = torch.div(torch.matmul(query, key.T), math.sqrt(self.attention_size))\n",
        "        score = torch.softmax(g, dim=-1)\n",
        "        output = torch.sum(torch.unsqueeze(score, dim=-1) * value, dim=-2)\n",
        "        return output\n",
        "\n",
        "\n",
        "class DotProductAttention(nn.Module):\n",
        "    def __init__(self, value_size, attention_size):\n",
        "        super().__init__()\n",
        "        self.attention_size = attention_size\n",
        "        self.context = nn.Parameter(data=nn.init.xavier_uniform_(torch.empty(attention_size, 1)))\n",
        "        self.dense = nn.Linear(value_size, attention_size)\n",
        "\n",
        "    def forward(self, x):\n",
        "        t = self.dense(x)\n",
        "        vu = torch.matmul(t, self.context).squeeze()\n",
        "        score = torch.softmax(vu, dim=-1)\n",
        "        output = torch.sum(x * torch.unsqueeze(score, dim=-1), dim=-2)\n",
        "        return output\n"
      ],
      "metadata": {
        "id": "_cz_BAOfjV8M"
      },
      "execution_count": 5,
      "outputs": []
    },
    {
      "cell_type": "code",
      "source": [
        "class EmbeddingLayer(nn.Module):\n",
        "    def __init__(self, code_num, code_size, graph_size):\n",
        "        super().__init__()\n",
        "        self.code_num = code_num\n",
        "        self.c_embeddings = nn.Parameter(data=nn.init.xavier_uniform_(torch.empty(code_num, code_size)))\n",
        "        self.n_embeddings = nn.Parameter(data=nn.init.xavier_uniform_(torch.empty(code_num, code_size)))\n",
        "        self.u_embeddings = nn.Parameter(data=nn.init.xavier_uniform_(torch.empty(code_num, graph_size)))\n",
        "\n",
        "    def forward(self):\n",
        "        return self.c_embeddings, self.n_embeddings, self.u_embeddings\n",
        "\n",
        "\n",
        "class GraphLayer(nn.Module):\n",
        "    def __init__(self, adj, code_size, graph_size):\n",
        "        super().__init__()\n",
        "        self.adj = adj\n",
        "        self.dense = nn.Linear(code_size, graph_size)\n",
        "        self.activation = nn.LeakyReLU()\n",
        "\n",
        "    def forward(self, code_x, neighbor, c_embeddings, n_embeddings):\n",
        "        center_codes = torch.unsqueeze(code_x, dim=-1)\n",
        "        neighbor_codes = torch.unsqueeze(neighbor, dim=-1)\n",
        "\n",
        "        center_embeddings = center_codes * c_embeddings\n",
        "        neighbor_embeddings = neighbor_codes * n_embeddings\n",
        "        cc_embeddings = center_codes * torch.matmul(self.adj, center_embeddings)\n",
        "        cn_embeddings = center_codes * torch.matmul(self.adj, neighbor_embeddings)\n",
        "        nn_embeddings = neighbor_codes * torch.matmul(self.adj, neighbor_embeddings)\n",
        "        nc_embeddings = neighbor_codes * torch.matmul(self.adj, center_embeddings)\n",
        "\n",
        "        co_embeddings = self.activation(self.dense(center_embeddings + cc_embeddings + cn_embeddings))\n",
        "        no_embeddings = self.activation(self.dense(neighbor_embeddings + nn_embeddings + nc_embeddings))\n",
        "        return co_embeddings, no_embeddings\n",
        "\n",
        "\n",
        "class TransitionLayer(nn.Module):\n",
        "    def __init__(self, code_num, graph_size, hidden_size, t_attention_size, t_output_size):\n",
        "        super().__init__()\n",
        "        self.gru = nn.GRUCell(input_size=graph_size, hidden_size=hidden_size)\n",
        "        self.single_head_attention = SingleHeadAttentionLayer(graph_size, graph_size, t_output_size, t_attention_size)\n",
        "        self.activation = nn.Tanh()\n",
        "\n",
        "        self.code_num = code_num\n",
        "        self.hidden_size = hidden_size\n",
        "\n",
        "    def forward(self, t, co_embeddings, divided, no_embeddings, unrelated_embeddings, hidden_state=None):\n",
        "        m1, m2, m3 = divided[:, 0], divided[:, 1], divided[:, 2]\n",
        "        m1_index = torch.where(m1 > 0)[0]\n",
        "        m2_index = torch.where(m2 > 0)[0]\n",
        "        m3_index = torch.where(m3 > 0)[0]\n",
        "        h_new = torch.zeros((self.code_num, self.hidden_size), dtype=co_embeddings.dtype).to(co_embeddings.device)\n",
        "        output_m1 = 0\n",
        "        output_m23 = 0\n",
        "        if len(m1_index) > 0:\n",
        "            m1_embedding = co_embeddings[m1_index]\n",
        "            h = hidden_state[m1_index] if hidden_state is not None else None\n",
        "            h_m1 = self.gru(m1_embedding, h)\n",
        "            h_new[m1_index] = h_m1\n",
        "            output_m1, _ = torch.max(h_m1, dim=-2)\n",
        "        if t > 0 and len(m2_index) + len(m3_index) > 0:\n",
        "            q = torch.vstack([no_embeddings[m2_index], unrelated_embeddings[m3_index]])\n",
        "            v = torch.vstack([co_embeddings[m2_index], co_embeddings[m3_index]])\n",
        "            h_m23 = self.activation(self.single_head_attention(q, q, v))\n",
        "            h_new[m2_index] = h_m23[:len(m2_index)]\n",
        "            h_new[m3_index] = h_m23[len(m2_index):]\n",
        "            output_m23, _ = torch.max(h_m23, dim=-2)\n",
        "        if len(m1_index) == 0:\n",
        "            output = output_m23\n",
        "        elif len(m2_index) + len(m3_index) == 0:\n",
        "            output = output_m1\n",
        "        else:\n",
        "            output, _ = torch.max(torch.vstack([output_m1, output_m23]), dim=-2)\n",
        "        return output, h_new"
      ],
      "metadata": {
        "id": "JB3RTBeujszO"
      },
      "execution_count": 6,
      "outputs": []
    },
    {
      "cell_type": "code",
      "source": [
        "class Classifier(nn.Module):\n",
        "    def __init__(self, input_size, output_size, dropout_rate=0., activation=None):\n",
        "        super().__init__()\n",
        "        self.linear = nn.Linear(input_size, output_size)\n",
        "        self.activation = activation\n",
        "        self.dropout = nn.Dropout(p=dropout_rate)\n",
        "\n",
        "    def forward(self, x):\n",
        "        output = self.dropout(x)\n",
        "        output = self.linear(output)\n",
        "        if self.activation is not None:\n",
        "            output = self.activation(output)\n",
        "        return output\n",
        "\n",
        "\n",
        "class Model(nn.Module):\n",
        "    def __init__(self, code_num, code_size,\n",
        "                 adj, graph_size, hidden_size, t_attention_size, t_output_size,\n",
        "                 output_size, dropout_rate, activation):\n",
        "        super().__init__()\n",
        "        self.embedding_layer = EmbeddingLayer(code_num, code_size, graph_size)\n",
        "        self.graph_layer = GraphLayer(adj, code_size, graph_size)\n",
        "        self.transition_layer = TransitionLayer(code_num, graph_size, hidden_size, t_attention_size, t_output_size)\n",
        "        self.attention = DotProductAttention(hidden_size, 32)\n",
        "        self.classifier = Classifier(hidden_size, output_size, dropout_rate, activation)\n",
        "\n",
        "    def forward(self, code_x, divided, neighbors, lens):\n",
        "        embeddings = self.embedding_layer()\n",
        "        c_embeddings, n_embeddings, u_embeddings = embeddings\n",
        "        output = []\n",
        "        for code_x_i, divided_i, neighbor_i, len_i in zip(code_x, divided, neighbors, lens):\n",
        "            no_embeddings_i_prev = None\n",
        "            output_i = []\n",
        "            h_t = None\n",
        "            for t, (c_it, d_it, n_it, len_it) in enumerate(zip(code_x_i, divided_i, neighbor_i, range(len_i))):\n",
        "                co_embeddings, no_embeddings = self.graph_layer(c_it, n_it, c_embeddings, n_embeddings)\n",
        "                output_it, h_t = self.transition_layer(t, co_embeddings, d_it, no_embeddings_i_prev, u_embeddings, h_t)\n",
        "                no_embeddings_i_prev = no_embeddings\n",
        "                output_i.append(output_it)\n",
        "            output_i = self.attention(torch.vstack(output_i))\n",
        "            output.append(output_i)\n",
        "        output = torch.vstack(output)\n",
        "        output = self.classifier(output)\n",
        "        return output"
      ],
      "metadata": {
        "id": "C8qBryLYj4Oo"
      },
      "execution_count": 7,
      "outputs": []
    },
    {
      "cell_type": "markdown",
      "source": [
        "## Training"
      ],
      "metadata": {
        "id": "nEARiCdP_Yji"
      }
    },
    {
      "cell_type": "markdown",
      "source": [
        "### Hyperparams"
      ],
      "metadata": {
        "id": "PUY66oD6_lbe"
      }
    },
    {
      "cell_type": "markdown",
      "source": [
        "The hyperparameters used in this training procedure is:\n",
        "\n",
        "\n",
        "\n",
        "```\n",
        "code_size = 48\n",
        "graph_size = 32\n",
        "hidden_size = 150  # rnn hidden size\n",
        "t_attention_size = 32\n",
        "t_output_size = hidden_size\n",
        "batch_size = 32\n",
        "epochs = 200\n",
        "```"
      ],
      "metadata": {
        "id": "fENqvm0d_bPK"
      }
    },
    {
      "cell_type": "markdown",
      "source": [
        "### Computational Requirements"
      ],
      "metadata": {
        "id": "VxJprAOb_qlc"
      }
    },
    {
      "cell_type": "markdown",
      "source": [
        "**Hardware**:\n",
        "  * In the original paper, they mentioned they trained all code using a machine with Intel i9-9900K CPU, 64GB memory, and\n",
        "Geforce RTX 2080 Ti GPU.\n",
        "  * In our project, we use Google Colab for running all codes and experiements.\n",
        "\n",
        "**Average runtime for each epoch**: runtime roughly 1 minute and 30 seconds per epoch (using T4 GPU in Google Colab).\n",
        "\n",
        "**Number of training epochs**: 200 epochs for original paper's implementation. For our project, we use 50 epochs to demonstate the result.\n",
        "\n",
        "**The reason we choose to use 50 epochs instead of 200 is because we observed that the model converges to a point after 20 epochs. Please see Results part for the detailed discussion.**\n"
      ],
      "metadata": {
        "id": "4fuXJo2w_u4C"
      }
    },
    {
      "cell_type": "markdown",
      "source": [
        "### Training Code"
      ],
      "metadata": {
        "id": "fimzxURnBXNu"
      }
    },
    {
      "cell_type": "markdown",
      "source": [
        "#### Utils Code Before Training"
      ],
      "metadata": {
        "id": "Tr5G5ndxmwqZ"
      }
    },
    {
      "cell_type": "code",
      "source": [
        "from preprocess import load_sparse\n",
        "\n",
        "def load_adj(path, device=torch.device('cpu')):\n",
        "    filename = os.path.join(path, 'code_adj.npz')\n",
        "    adj = torch.from_numpy(load_sparse(filename)).to(device=device, dtype=torch.float32)\n",
        "    return adj\n",
        "\n",
        "\n",
        "class EHRDataset:\n",
        "    def __init__(self, data_path, label='m', batch_size=32, shuffle=True, device=torch.device('cpu')):\n",
        "        super().__init__()\n",
        "        self.path = data_path\n",
        "        self.code_x, self.visit_lens, self.y, self.divided, self.neighbors = self._load(label)\n",
        "\n",
        "        self._size = self.code_x.shape[0]\n",
        "        self.idx = np.arange(self._size)\n",
        "        self.batch_size = batch_size\n",
        "        self.shuffle = shuffle\n",
        "        self.device = device\n",
        "\n",
        "    def _load(self, label):\n",
        "        code_x = load_sparse(os.path.join(self.path, 'code_x.npz'))\n",
        "        visit_lens = np.load(os.path.join(self.path, 'visit_lens.npz'))['lens']\n",
        "        if label == 'm':\n",
        "            y = load_sparse(os.path.join(self.path, 'code_y.npz'))\n",
        "        elif label == 'h':\n",
        "            y = np.load(os.path.join(self.path, 'hf_y.npz'))['hf_y']\n",
        "        else:\n",
        "            raise KeyError('Unsupported label type')\n",
        "        divided = load_sparse(os.path.join(self.path, 'divided.npz'))\n",
        "        neighbors = load_sparse(os.path.join(self.path, 'neighbors.npz'))\n",
        "        return code_x, visit_lens, y, divided, neighbors\n",
        "\n",
        "    def on_epoch_end(self):\n",
        "        if self.shuffle:\n",
        "            np.random.shuffle(self.idx)\n",
        "\n",
        "    def size(self):\n",
        "        return self._size\n",
        "\n",
        "    def label(self):\n",
        "        return self.y\n",
        "\n",
        "    def __len__(self):\n",
        "        len_ = self._size // self.batch_size\n",
        "        return len_ if self._size % self.batch_size == 0 else len_ + 1\n",
        "\n",
        "    def __getitem__(self, index):\n",
        "        device = self.device\n",
        "        start = index * self.batch_size\n",
        "        end = start + self.batch_size\n",
        "        slices = self.idx[start:end]\n",
        "        code_x = torch.from_numpy(self.code_x[slices]).to(device)\n",
        "        visit_lens = torch.from_numpy(self.visit_lens[slices]).to(device=device, dtype=torch.long)\n",
        "        y = torch.from_numpy(self.y[slices]).to(device=device, dtype=torch.float32)\n",
        "        divided = torch.from_numpy(self.divided[slices]).to(device)\n",
        "        neighbors = torch.from_numpy(self.neighbors[slices]).to(device)\n",
        "        return code_x, visit_lens, divided, y, neighbors\n",
        "\n",
        "\n",
        "class MultiStepLRScheduler:\n",
        "    def __init__(self, optimizer, epochs, init_lr, milestones, lrs):\n",
        "        self.optimizer = optimizer\n",
        "        self.epochs = epochs\n",
        "        self.init_lr = init_lr\n",
        "        self.lrs = self._generate_lr(milestones, lrs)\n",
        "        self.current_epoch = 0\n",
        "\n",
        "    def _generate_lr(self, milestones, lrs):\n",
        "        milestones = [1] + milestones + [self.epochs + 1]\n",
        "        lrs = [self.init_lr] + lrs\n",
        "        lr_grouped = np.concatenate([np.ones((milestones[i + 1] - milestones[i], )) * lrs[i]\n",
        "                                     for i in range(len(milestones) - 1)])\n",
        "        return lr_grouped\n",
        "\n",
        "    def step(self):\n",
        "        lr = self.lrs[self.current_epoch]\n",
        "        for group in self.optimizer.param_groups:\n",
        "            group['lr'] = lr\n",
        "        self.current_epoch += 1\n",
        "\n",
        "    def reset(self):\n",
        "        self.current_epoch = 0\n",
        "\n",
        "\n",
        "def format_time(seconds):\n",
        "    if seconds <= 60:\n",
        "        time_str = '%.1fs' % seconds\n",
        "    elif seconds <= 3600:\n",
        "        time_str = '%dm%.1fs' % (seconds // 60, seconds % 60)\n",
        "    else:\n",
        "        time_str = '%dh%dm%.1fs' % (seconds // 3600, (seconds % 3600) // 60, seconds % 60)\n",
        "    return time_str"
      ],
      "metadata": {
        "id": "pFSrCgfLmzw0"
      },
      "execution_count": 8,
      "outputs": []
    },
    {
      "cell_type": "markdown",
      "source": [
        "#### Training Code"
      ],
      "metadata": {
        "id": "JJ1IF9Ggm97g"
      }
    },
    {
      "cell_type": "code",
      "source": [
        "import sys\n",
        "sys.path.append('/content/drive/MyDrive/CS598HLO/Chet')\n"
      ],
      "metadata": {
        "id": "52sLSBNFJfLy"
      },
      "execution_count": 9,
      "outputs": []
    },
    {
      "cell_type": "code",
      "source": [
        "import os\n",
        "import random\n",
        "import time\n",
        "\n",
        "import torch\n",
        "import numpy as np\n",
        "\n",
        "from models.model import Model\n",
        "from utils import load_adj, EHRDataset, format_time, MultiStepLRScheduler\n",
        "from metrics import evaluate_codes, evaluate_hf\n",
        "\n",
        "\n",
        "def historical_hot(code_x, code_num, lens):\n",
        "    result = np.zeros((len(code_x), code_num), dtype=int)\n",
        "    for i, (x, l) in enumerate(zip(code_x, lens)):\n",
        "        result[i] = x[l - 1]\n",
        "    return result\n",
        "\n",
        "\n",
        "if __name__ == '__main__':\n",
        "    seed = 6669\n",
        "    dataset = 'mimic3'  # 'mimic3' or 'eicu'\n",
        "    task = 'h'  # 'm' or 'h'\n",
        "    use_cuda = True\n",
        "    device = torch.device('cuda' if torch.cuda.is_available() and use_cuda else 'cpu')\n",
        "\n",
        "    code_size = 48\n",
        "    graph_size = 32\n",
        "    hidden_size = 150  # rnn hidden size\n",
        "    t_attention_size = 32\n",
        "    t_output_size = hidden_size\n",
        "    batch_size = 32\n",
        "    epochs = 50\n",
        "\n",
        "    random.seed(seed)\n",
        "    np.random.seed(seed)\n",
        "    torch.manual_seed(seed)\n",
        "    torch.cuda.manual_seed(seed)\n",
        "\n",
        "    # dataset_path = os.path.join('data', dataset, 'standard')\n",
        "    dataset_path = '/content/drive/MyDrive/CS598HLO/Chet/data/mimic3/standard'\n",
        "    print(dataset_path)\n",
        "    train_path = os.path.join(dataset_path, 'train')\n",
        "\n",
        "    valid_path = os.path.join(dataset_path, 'valid')\n",
        "    test_path = os.path.join(dataset_path, 'test')\n",
        "\n",
        "    # dataset_path = '/content/drive/MyDrive/Colab Notebooks/Chet/data/mimic3/standard/code_adj.npz'\n",
        "\n",
        "    code_adj = load_adj(dataset_path, device=device)\n",
        "    code_num = len(code_adj)\n",
        "    print('loading train data ...')\n",
        "    train_data = EHRDataset(train_path, label=task, batch_size=batch_size, shuffle=True, device=device)\n",
        "    print('loading valid data ...')\n",
        "    valid_data = EHRDataset(valid_path, label=task, batch_size=batch_size, shuffle=False, device=device)\n",
        "    print('loading test data ...')\n",
        "    test_data = EHRDataset(test_path, label=task, batch_size=batch_size, shuffle=False, device=device)\n",
        "\n",
        "    test_historical = historical_hot(valid_data.code_x, code_num, valid_data.visit_lens)\n",
        "\n",
        "    task_conf = {\n",
        "        'm': {\n",
        "            'dropout': 0.45,\n",
        "            'output_size': code_num,\n",
        "            'evaluate_fn': evaluate_codes,\n",
        "            'lr': {\n",
        "                'init_lr': 0.01,\n",
        "                'milestones': [20, 30],\n",
        "                'lrs': [1e-3, 1e-5]\n",
        "            }\n",
        "        },\n",
        "        'h': {\n",
        "            'dropout': 0.0,\n",
        "            'output_size': 1,\n",
        "            'evaluate_fn': evaluate_hf,\n",
        "            'lr': {\n",
        "                'init_lr': 0.01,\n",
        "                'milestones': [2, 3, 20],\n",
        "                'lrs': [1e-3, 1e-4, 1e-5]\n",
        "            }\n",
        "        }\n",
        "    }\n",
        "    output_size = task_conf[task]['output_size']\n",
        "    activation = torch.nn.Sigmoid()\n",
        "    loss_fn = torch.nn.BCELoss()\n",
        "    evaluate_fn = task_conf[task]['evaluate_fn']\n",
        "    dropout_rate = task_conf[task]['dropout']\n",
        "\n",
        "    param_path = os.path.join('data', 'params', dataset, task)\n",
        "    if not os.path.exists(param_path):\n",
        "        os.makedirs(param_path)\n",
        "\n",
        "    model = Model(code_num=code_num, code_size=code_size,\n",
        "                  adj=code_adj, graph_size=graph_size, hidden_size=hidden_size, t_attention_size=t_attention_size,\n",
        "                  t_output_size=t_output_size,\n",
        "                  output_size=output_size, dropout_rate=dropout_rate, activation=activation).to(device)\n",
        "    optimizer = torch.optim.Adam(model.parameters(), lr=0.01)\n",
        "    scheduler = MultiStepLRScheduler(optimizer, epochs, task_conf[task]['lr']['init_lr'],\n",
        "                                     task_conf[task]['lr']['milestones'], task_conf[task]['lr']['lrs'])\n",
        "\n",
        "    pytorch_total_params = sum(p.numel() for p in model.parameters() if p.requires_grad)\n",
        "    print(pytorch_total_params)\n",
        "\n",
        "    losses = []\n",
        "    f1_scores = []\n",
        "    auc_scores = []\n",
        "\n",
        "    for epoch in range(epochs):\n",
        "        print('Epoch %d / %d:' % (epoch + 1, epochs))\n",
        "        model.train()\n",
        "        total_loss = 0.0\n",
        "        total_num = 0\n",
        "        steps = len(train_data)\n",
        "        st = time.time()\n",
        "        scheduler.step()\n",
        "\n",
        "        for step in range(len(train_data)):\n",
        "            optimizer.zero_grad()\n",
        "            code_x, visit_lens, divided, y, neighbors = train_data[step]\n",
        "            output = model(code_x, divided, neighbors, visit_lens).squeeze()\n",
        "            loss = loss_fn(output, y)\n",
        "            loss.backward()\n",
        "            optimizer.step()\n",
        "            total_loss += loss.item() * output_size * len(code_x)\n",
        "            total_num += len(code_x)\n",
        "\n",
        "            end_time = time.time()\n",
        "            remaining_time = format_time((end_time - st) / (step + 1) * (steps - step - 1))\n",
        "            print('\\r    Step %d / %d, remaining time: %s, loss: %.4f'\n",
        "                  % (step + 1, steps, remaining_time, total_loss / total_num), end='')\n",
        "\n",
        "        train_data.on_epoch_end()\n",
        "        et = time.time()\n",
        "        time_cost = format_time(et - st)\n",
        "\n",
        "        avg_loss = total_loss / total_num\n",
        "        losses.append(avg_loss)\n",
        "\n",
        "        print('\\r    Step %d / %d, time cost: %s, loss: %.4f' % (steps, steps, time_cost, total_loss / total_num))\n",
        "        valid_loss, auc_score_, f1_score_ = evaluate_fn(model, valid_data, loss_fn, output_size, test_historical)\n",
        "        # torch.save(model.state_dict(), os.path.join(param_path, '%d.pt' % epoch))\n",
        "\n",
        "        auc_scores.append(auc_score_)\n",
        "        f1_scores.append(f1_score_)\n",
        "\n",
        "        if (epoch + 1) % 10 == 0:\n",
        "          save_path = os.path.join(param_path, f'model-{epoch+1}.pt')\n",
        "          torch.save(model.state_dict(), save_path)\n",
        "          # print(f'Model saved to {save_path}')"
      ],
      "metadata": {
        "id": "1qLlUV-7m9ea",
        "colab": {
          "base_uri": "https://localhost:8080/"
        },
        "outputId": "e5f7b7de-998e-4d6b-c898-8186049176a0"
      },
      "execution_count": 13,
      "outputs": [
        {
          "output_type": "stream",
          "name": "stdout",
          "text": [
            "/content/drive/MyDrive/CS598HLO/Chet/data/mimic3/standard\n",
            "loading train data ...\n",
            "loading valid data ...\n",
            "loading test data ...\n",
            "721085\n",
            "Epoch 1 / 50:\n",
            "    Step 188 / 188, time cost: 1m36.9s, loss: 0.4845\n",
            "    Evaluation: loss: 0.4690 --- auc: 0.8390 --- f1_score: 0.7224\n",
            "Epoch 2 / 50:\n",
            "    Step 188 / 188, time cost: 1m32.7s, loss: 0.4098\n",
            "    Evaluation: loss: 0.4615 --- auc: 0.8520 --- f1_score: 0.7308\n",
            "Epoch 3 / 50:\n",
            "    Step 188 / 188, time cost: 1m32.3s, loss: 0.3874\n",
            "    Evaluation: loss: 0.4610 --- auc: 0.8522 --- f1_score: 0.7377\n",
            "Epoch 4 / 50:\n",
            "    Step 188 / 188, time cost: 1m35.2s, loss: 0.3843\n",
            "    Evaluation: loss: 0.4649 --- auc: 0.8526 --- f1_score: 0.7273\n",
            "Epoch 5 / 50:\n",
            "    Step 188 / 188, time cost: 1m32.5s, loss: 0.3816\n",
            "    Evaluation: loss: 0.4659 --- auc: 0.8532 --- f1_score: 0.7328\n",
            "Epoch 6 / 50:\n",
            "    Step 188 / 188, time cost: 1m33.2s, loss: 0.3789\n",
            "    Evaluation: loss: 0.4648 --- auc: 0.8536 --- f1_score: 0.7308\n",
            "Epoch 7 / 50:\n",
            "    Step 188 / 188, time cost: 1m33.2s, loss: 0.3761\n",
            "    Evaluation: loss: 0.4653 --- auc: 0.8537 --- f1_score: 0.7308\n",
            "Epoch 8 / 50:\n",
            "    Step 188 / 188, time cost: 1m32.7s, loss: 0.3733\n",
            "    Evaluation: loss: 0.4681 --- auc: 0.8534 --- f1_score: 0.7313\n",
            "Epoch 9 / 50:\n",
            "    Step 188 / 188, time cost: 1m33.7s, loss: 0.3707\n",
            "    Evaluation: loss: 0.4674 --- auc: 0.8538 --- f1_score: 0.7342\n",
            "Epoch 10 / 50:\n",
            "    Step 188 / 188, time cost: 1m32.7s, loss: 0.3678\n",
            "    Evaluation: loss: 0.4674 --- auc: 0.8538 --- f1_score: 0.7322\n",
            "Epoch 11 / 50:\n",
            "    Step 188 / 188, time cost: 1m33.2s, loss: 0.3650\n",
            "    Evaluation: loss: 0.4663 --- auc: 0.8537 --- f1_score: 0.7357\n",
            "Epoch 12 / 50:\n",
            "    Step 188 / 188, time cost: 1m31.9s, loss: 0.3620\n",
            "    Evaluation: loss: 0.4690 --- auc: 0.8532 --- f1_score: 0.7397\n",
            "Epoch 13 / 50:\n",
            "    Step 188 / 188, time cost: 1m33.0s, loss: 0.3591\n",
            "    Evaluation: loss: 0.4679 --- auc: 0.8532 --- f1_score: 0.7411\n",
            "Epoch 14 / 50:\n",
            "    Step 188 / 188, time cost: 1m33.2s, loss: 0.3562\n",
            "    Evaluation: loss: 0.4728 --- auc: 0.8526 --- f1_score: 0.7383\n",
            "Epoch 15 / 50:\n",
            "    Step 188 / 188, time cost: 1m32.5s, loss: 0.3532\n",
            "    Evaluation: loss: 0.4735 --- auc: 0.8528 --- f1_score: 0.7328\n",
            "Epoch 16 / 50:\n",
            "    Step 188 / 188, time cost: 1m33.3s, loss: 0.3502\n",
            "    Evaluation: loss: 0.4722 --- auc: 0.8530 --- f1_score: 0.7328\n",
            "Epoch 17 / 50:\n",
            "    Step 188 / 188, time cost: 1m32.1s, loss: 0.3469\n",
            "    Evaluation: loss: 0.4754 --- auc: 0.8530 --- f1_score: 0.7328\n",
            "Epoch 18 / 50:\n",
            "    Step 188 / 188, time cost: 1m32.3s, loss: 0.3441\n",
            "    Evaluation: loss: 0.4733 --- auc: 0.8532 --- f1_score: 0.7411\n",
            "Epoch 19 / 50:\n",
            "    Step 188 / 188, time cost: 1m32.4s, loss: 0.3408\n",
            "    Evaluation: loss: 0.4739 --- auc: 0.8530 --- f1_score: 0.7391\n",
            "Epoch 20 / 50:\n",
            "    Step 188 / 188, time cost: 1m32.9s, loss: 0.3376\n",
            "    Evaluation: loss: 0.4748 --- auc: 0.8530 --- f1_score: 0.7391\n",
            "Epoch 21 / 50:\n",
            "    Step 188 / 188, time cost: 1m32.8s, loss: 0.3372\n",
            "    Evaluation: loss: 0.4752 --- auc: 0.8529 --- f1_score: 0.7391\n",
            "Epoch 22 / 50:\n",
            "    Step 188 / 188, time cost: 1m32.7s, loss: 0.3369\n",
            "    Evaluation: loss: 0.4757 --- auc: 0.8529 --- f1_score: 0.7391\n",
            "Epoch 23 / 50:\n",
            "    Step 188 / 188, time cost: 1m33.4s, loss: 0.3365\n",
            "    Evaluation: loss: 0.4761 --- auc: 0.8528 --- f1_score: 0.7391\n",
            "Epoch 24 / 50:\n",
            "    Step 188 / 188, time cost: 1m32.6s, loss: 0.3362\n",
            "    Evaluation: loss: 0.4765 --- auc: 0.8527 --- f1_score: 0.7391\n",
            "Epoch 25 / 50:\n",
            "    Step 188 / 188, time cost: 1m33.0s, loss: 0.3359\n",
            "    Evaluation: loss: 0.4768 --- auc: 0.8526 --- f1_score: 0.7391\n",
            "Epoch 26 / 50:\n",
            "    Step 188 / 188, time cost: 1m32.6s, loss: 0.3356\n",
            "    Evaluation: loss: 0.4770 --- auc: 0.8526 --- f1_score: 0.7391\n",
            "Epoch 27 / 50:\n",
            "    Step 188 / 188, time cost: 1m32.6s, loss: 0.3353\n",
            "    Evaluation: loss: 0.4772 --- auc: 0.8526 --- f1_score: 0.7391\n",
            "Epoch 28 / 50:\n",
            "    Step 188 / 188, time cost: 1m31.1s, loss: 0.3350\n",
            "    Evaluation: loss: 0.4775 --- auc: 0.8526 --- f1_score: 0.7391\n",
            "Epoch 29 / 50:\n",
            "    Step 188 / 188, time cost: 1m34.2s, loss: 0.3347\n",
            "    Evaluation: loss: 0.4776 --- auc: 0.8527 --- f1_score: 0.7391\n",
            "Epoch 30 / 50:\n",
            "    Step 188 / 188, time cost: 1m40.8s, loss: 0.3344\n",
            "    Evaluation: loss: 0.4779 --- auc: 0.8527 --- f1_score: 0.7391\n",
            "Epoch 31 / 50:\n",
            "    Step 188 / 188, time cost: 1m45.2s, loss: 0.3341\n",
            "    Evaluation: loss: 0.4779 --- auc: 0.8526 --- f1_score: 0.7391\n",
            "Epoch 32 / 50:\n",
            "    Step 188 / 188, time cost: 1m39.4s, loss: 0.3338\n",
            "    Evaluation: loss: 0.4782 --- auc: 0.8527 --- f1_score: 0.7391\n",
            "Epoch 33 / 50:\n",
            "    Step 188 / 188, time cost: 1m36.0s, loss: 0.3335\n",
            "    Evaluation: loss: 0.4784 --- auc: 0.8528 --- f1_score: 0.7391\n",
            "Epoch 34 / 50:\n",
            "    Step 188 / 188, time cost: 1m32.4s, loss: 0.3332\n",
            "    Evaluation: loss: 0.4785 --- auc: 0.8528 --- f1_score: 0.7391\n",
            "Epoch 35 / 50:\n",
            "    Step 188 / 188, time cost: 1m32.0s, loss: 0.3329\n",
            "    Evaluation: loss: 0.4788 --- auc: 0.8528 --- f1_score: 0.7391\n",
            "Epoch 36 / 50:\n",
            "    Step 188 / 188, time cost: 1m36.2s, loss: 0.3326\n",
            "    Evaluation: loss: 0.4789 --- auc: 0.8527 --- f1_score: 0.7391\n",
            "Epoch 37 / 50:\n",
            "    Step 188 / 188, time cost: 1m48.1s, loss: 0.3323\n",
            "    Evaluation: loss: 0.4791 --- auc: 0.8527 --- f1_score: 0.7391\n",
            "Epoch 38 / 50:\n",
            "    Step 188 / 188, time cost: 1m44.8s, loss: 0.3320\n",
            "    Evaluation: loss: 0.4795 --- auc: 0.8526 --- f1_score: 0.7391\n",
            "Epoch 39 / 50:\n",
            "    Step 188 / 188, time cost: 1m43.2s, loss: 0.3317\n",
            "    Evaluation: loss: 0.4796 --- auc: 0.8526 --- f1_score: 0.7391\n",
            "Epoch 40 / 50:\n",
            "    Step 188 / 188, time cost: 1m36.9s, loss: 0.3314\n",
            "    Evaluation: loss: 0.4798 --- auc: 0.8526 --- f1_score: 0.7391\n",
            "Epoch 41 / 50:\n",
            "    Step 188 / 188, time cost: 1m51.6s, loss: 0.3311\n",
            "    Evaluation: loss: 0.4799 --- auc: 0.8525 --- f1_score: 0.7411\n",
            "Epoch 42 / 50:\n",
            "    Step 188 / 188, time cost: 1m41.4s, loss: 0.3308\n",
            "    Evaluation: loss: 0.4802 --- auc: 0.8525 --- f1_score: 0.7411\n",
            "Epoch 43 / 50:\n",
            "    Step 188 / 188, time cost: 1m34.8s, loss: 0.3305\n",
            "    Evaluation: loss: 0.4804 --- auc: 0.8525 --- f1_score: 0.7411\n",
            "Epoch 44 / 50:\n",
            "    Step 188 / 188, time cost: 1m32.6s, loss: 0.3302\n",
            "    Evaluation: loss: 0.4806 --- auc: 0.8525 --- f1_score: 0.7411\n",
            "Epoch 45 / 50:\n",
            "    Step 188 / 188, time cost: 1m32.8s, loss: 0.3299\n",
            "    Evaluation: loss: 0.4807 --- auc: 0.8522 --- f1_score: 0.7411\n",
            "Epoch 46 / 50:\n",
            "    Step 188 / 188, time cost: 1m32.5s, loss: 0.3296\n",
            "    Evaluation: loss: 0.4808 --- auc: 0.8522 --- f1_score: 0.7411\n",
            "Epoch 47 / 50:\n",
            "    Step 188 / 188, time cost: 1m33.1s, loss: 0.3293\n",
            "    Evaluation: loss: 0.4811 --- auc: 0.8520 --- f1_score: 0.7411\n",
            "Epoch 48 / 50:\n",
            "    Step 188 / 188, time cost: 1m32.3s, loss: 0.3290\n",
            "    Evaluation: loss: 0.4812 --- auc: 0.8520 --- f1_score: 0.7411\n",
            "Epoch 49 / 50:\n",
            "    Step 188 / 188, time cost: 1m37.8s, loss: 0.3287\n",
            "    Evaluation: loss: 0.4814 --- auc: 0.8519 --- f1_score: 0.7411\n",
            "Epoch 50 / 50:\n",
            "    Step 188 / 188, time cost: 1m30.8s, loss: 0.3284\n",
            "    Evaluation: loss: 0.4819 --- auc: 0.8518 --- f1_score: 0.7411\n"
          ]
        }
      ]
    },
    {
      "cell_type": "code",
      "source": [
        "!cp -r  /content/data /content/drive/My\\ Drive/"
      ],
      "metadata": {
        "id": "28_HeBnDewXx"
      },
      "execution_count": 14,
      "outputs": []
    },
    {
      "cell_type": "markdown",
      "source": [
        "### Evaluation Metrics"
      ],
      "metadata": {
        "id": "WRhcbAP4nikX"
      }
    },
    {
      "cell_type": "markdown",
      "source": [
        "#### Metric Descriptions"
      ],
      "metadata": {
        "id": "6UOJFyYTB7CP"
      }
    },
    {
      "cell_type": "markdown",
      "source": [
        "The evaluation metrics for the diagnosis prediction are\n",
        "weighted F1 score (w-F1) and top k recall\n",
        "(R@k). w-F1 is a weighted sum of F1\n",
        "scores for all medical codes. It measures overall effectiveness of predictions on all classes. R@k is an average ratio\n",
        "of desired medical codes in top k predictions by the total\n",
        "number of desired medical codes in each visit. It measures\n",
        "prediction accuracy on a subset of classes.\n",
        "\n",
        "The evaluation metrics for the heart failure prediction are\n",
        "the area under the receiver operating characteristic curve\n",
        "(AUC) and F1 score since this task is a binary classification\n",
        "on imbalanced test data in our experiments."
      ],
      "metadata": {
        "id": "LIs-ImQd00JX"
      }
    },
    {
      "cell_type": "markdown",
      "source": [
        "#### Evaluation Code"
      ],
      "metadata": {
        "id": "KqtEcLwzB-Ic"
      }
    },
    {
      "cell_type": "code",
      "source": [
        "from sklearn.metrics import f1_score, roc_auc_score\n",
        "\n",
        "def f1(y_true_hot, y_pred, metrics='weighted'):\n",
        "    result = np.zeros_like(y_true_hot)\n",
        "    for i in range(len(result)):\n",
        "        true_number = np.sum(y_true_hot[i] == 1)\n",
        "        result[i][y_pred[i][:true_number]] = 1\n",
        "    return f1_score(y_true=y_true_hot, y_pred=result, average=metrics, zero_division=0)\n",
        "\n",
        "\n",
        "def top_k_prec_recall(y_true_hot, y_pred, ks):\n",
        "    a = np.zeros((len(ks),))\n",
        "    r = np.zeros((len(ks),))\n",
        "    for pred, true_hot in zip(y_pred, y_true_hot):\n",
        "        true = np.where(true_hot == 1)[0].tolist()\n",
        "        t = set(true)\n",
        "        for i, k in enumerate(ks):\n",
        "            p = set(pred[:k])\n",
        "            it = p.intersection(t)\n",
        "            a[i] += len(it) / k\n",
        "            # r[i] += len(it) / min(k, len(t))\n",
        "            r[i] += len(it) / len(t)\n",
        "    return a / len(y_true_hot), r / len(y_true_hot)\n",
        "\n",
        "\n",
        "def calculate_occurred(historical, y, preds, ks):\n",
        "    # y_occurred = np.sum(np.logical_and(historical, y), axis=-1)\n",
        "    # y_prec = np.mean(y_occurred / np.sum(y, axis=-1))\n",
        "    r1 = np.zeros((len(ks), ))\n",
        "    r2 = np.zeros((len(ks),))\n",
        "    n = np.sum(y, axis=-1)\n",
        "    for i, k in enumerate(ks):\n",
        "        # n_k = np.minimum(n, k)\n",
        "        n_k = n\n",
        "        pred_k = np.zeros_like(y)\n",
        "        for T in range(len(pred_k)):\n",
        "            pred_k[T][preds[T][:k]] = 1\n",
        "        # pred_occurred = np.sum(np.logical_and(historical, pred_k), axis=-1)\n",
        "        pred_occurred = np.logical_and(historical, pred_k)\n",
        "        pred_not_occurred = np.logical_and(np.logical_not(historical), pred_k)\n",
        "        pred_occurred_true = np.logical_and(pred_occurred, y)\n",
        "        pred_not_occurred_true = np.logical_and(pred_not_occurred, y)\n",
        "        r1[i] = np.mean(np.sum(pred_occurred_true, axis=-1) / n_k)\n",
        "        r2[i] = np.mean(np.sum(pred_not_occurred_true, axis=-1) / n_k)\n",
        "    return r1, r2\n",
        "\n",
        "\n",
        "def evaluate_codes(model, dataset, loss_fn, output_size, historical=None):\n",
        "    model.eval()\n",
        "    total_loss = 0.0\n",
        "    labels = dataset.label()\n",
        "    preds = []\n",
        "    for step in range(len(dataset)):\n",
        "        code_x, visit_lens, divided, y, neighbors = dataset[step]\n",
        "        output = model(code_x, divided, neighbors, visit_lens)\n",
        "        pred = torch.argsort(output, dim=-1, descending=True)\n",
        "        preds.append(pred)\n",
        "        loss = loss_fn(output, y)\n",
        "        total_loss += loss.item() * output_size * len(code_x)\n",
        "        print('\\r    Evaluating step %d / %d' % (step + 1, len(dataset)), end='')\n",
        "    avg_loss = total_loss / dataset.size()\n",
        "    preds = torch.vstack(preds).detach().cpu().numpy()\n",
        "    f1_score = f1(labels, preds)\n",
        "    prec, recall = top_k_prec_recall(labels, preds, ks=[10, 20, 30, 40])\n",
        "    if historical is not None:\n",
        "        r1, r2 = calculate_occurred(historical, labels, preds, ks=[10, 20, 30, 40])\n",
        "        print('\\r    Evaluation: loss: %.4f --- f1_score: %.4f --- top_k_recall: %.4f, %.4f, %.4f, %.4f  --- occurred: %.4f, %.4f, %.4f, %.4f  --- not occurred: %.4f, %.4f, %.4f, %.4f'\n",
        "              % (avg_loss, f1_score, recall[0], recall[1], recall[2], recall[3], r1[0], r1[1], r1[2], r1[3], r2[0], r2[1], r2[2], r2[3]))\n",
        "    else:\n",
        "        print('\\r    Evaluation: loss: %.4f --- f1_score: %.4f --- top_k_recall: %.4f, %.4f, %.4f, %.4f'\n",
        "              % (avg_loss, f1_score, recall[0], recall[1], recall[2], recall[3]))\n",
        "    return avg_loss, f1_score\n",
        "\n",
        "\n",
        "def evaluate_hf(model, dataset, loss_fn, output_size=1, historical=None):\n",
        "    model.eval()\n",
        "    total_loss = 0.0\n",
        "    labels = dataset.label()\n",
        "    outputs = []\n",
        "    preds = []\n",
        "    for step in range(len(dataset)):\n",
        "        code_x, visit_lens, divided, y, neighbors = dataset[step]\n",
        "        output = model(code_x, divided, neighbors, visit_lens).squeeze()\n",
        "        loss = loss_fn(output, y)\n",
        "        total_loss += loss.item() * output_size * len(code_x)\n",
        "        output = output.detach().cpu().numpy()\n",
        "        outputs.append(output)\n",
        "        pred = (output > 0.5).astype(int)\n",
        "        preds.append(pred)\n",
        "        print('\\r    Evaluating step %d / %d' % (step + 1, len(dataset)), end='')\n",
        "    avg_loss = total_loss / dataset.size()\n",
        "    outputs = np.concatenate(outputs)\n",
        "    preds = np.concatenate(preds)\n",
        "    auc = roc_auc_score(labels, outputs)\n",
        "    f1_score_ = f1_score(labels, preds)\n",
        "    print('\\r    Evaluation: loss: %.4f --- auc: %.4f --- f1_score: %.4f' % (avg_loss, auc, f1_score_))\n",
        "    return avg_loss, auc, f1_score_\n"
      ],
      "metadata": {
        "id": "3p5rLQjXneJe"
      },
      "execution_count": 27,
      "outputs": []
    },
    {
      "cell_type": "markdown",
      "source": [
        "### Evaluation at Inference"
      ],
      "metadata": {
        "id": "C2_Ygl_-EGLJ"
      }
    },
    {
      "cell_type": "markdown",
      "source": [
        "Here, we will take the heart failure prediction as an example to show how to load a pretrained model from our project and get the evaluation result on the test set:"
      ],
      "metadata": {
        "id": "YUALe1D8EOSK"
      }
    },
    {
      "cell_type": "code",
      "source": [
        "# Load the model\n",
        "model_path = '/content/drive/MyDrive/data/params/mimic3/h/model-50.pt'\n",
        "model.load_state_dict(torch.load(model_path, map_location=device))\n",
        "model.eval()\n",
        "\n",
        "# Load the dataset\n",
        "test_dataset_path = '/content/drive/MyDrive/CS598HLO/Chet/data/mimic3/standard/'\n",
        "test_path = os.path.join(test_dataset_path, 'test')\n",
        "test_data = EHRDataset(test_path, label=task, batch_size=batch_size, shuffle=False, device=device)\n",
        "\n",
        "# Run evaluation\n",
        "if task == 'm':\n",
        "    evaluate_codes(model, valid_data, loss_fn, task_conf[task]['output_size'], historical=test_historical)\n",
        "elif task == 'h':\n",
        "    evaluate_hf(model, valid_data, loss_fn, task_conf[task]['output_size'], historical=test_historical)\n",
        "\n",
        "# Print or process the results as needed\n",
        "# print(f\"Evaluation results - Loss: {loss}, F1 Score: {f1_score}\")"
      ],
      "metadata": {
        "id": "WG9AHijqElVn",
        "colab": {
          "base_uri": "https://localhost:8080/"
        },
        "outputId": "4309e858-064a-4a5e-834e-6ba1450831dc"
      },
      "execution_count": 23,
      "outputs": [
        {
          "output_type": "stream",
          "name": "stdout",
          "text": [
            "    Evaluation: loss: 0.4819 --- auc: 0.8518 --- f1_score: 0.7411\n"
          ]
        }
      ]
    },
    {
      "cell_type": "markdown",
      "source": [
        "# Results\n"
      ],
      "metadata": {
        "id": "gX6bCcZNuxmz"
      }
    },
    {
      "cell_type": "markdown",
      "source": [
        "## Table of Results"
      ],
      "metadata": {
        "id": "YeARYEjuCU1J"
      }
    },
    {
      "cell_type": "markdown",
      "source": [
        "Taking the heart failure prediction on MIMIC-III dataset, we are now getting some results which we could discuss about.\n",
        "\n",
        "Belows are three plots: The Loss curve on the training data, the AUC score curve on the validation data, and the F1-score curve on the validation data:"
      ],
      "metadata": {
        "id": "ZOEXB7qPxzAO"
      }
    },
    {
      "cell_type": "code",
      "source": [
        "import matplotlib.pyplot as plt\n",
        "\n",
        "# Plotting the Loss\n",
        "plt.figure(figsize=(10, 5))\n",
        "plt.plot(range(1, epochs+1), losses, marker='o', linestyle='-', color='r')\n",
        "plt.title('Training Loss Over Epochs')\n",
        "plt.xlabel('Epoch')\n",
        "plt.ylabel('Loss')\n",
        "plt.grid(True)\n",
        "plt.show()\n",
        "plt.savefig('training_loss.jpg', format='jpg')\n",
        "plt.close()\n",
        "\n",
        "# Plotting the Auc Score\n",
        "plt.figure(figsize=(10, 5))\n",
        "plt.plot(range(1, epochs+1), auc_scores, marker='o', linestyle='-', color='r')\n",
        "plt.title('AUC Scores Over Epochs')\n",
        "plt.xlabel('Epoch')\n",
        "plt.ylabel('Loss')\n",
        "plt.grid(True)\n",
        "plt.show()\n",
        "plt.savefig('auc_score.jpg', format='jpg')\n",
        "plt.close()\n",
        "\n",
        "# Plotting the F1 Score\n",
        "plt.figure(figsize=(10, 5))\n",
        "plt.plot(range(1, epochs+1), f1_scores, marker='o', linestyle='-', color='b')\n",
        "plt.title('F1 Score Over Epochs')\n",
        "plt.xlabel('Epoch')\n",
        "plt.ylabel('F1 Score')\n",
        "plt.grid(True)\n",
        "plt.show()\n",
        "plt.savefig('f1_score.jpg', format='jpg')\n",
        "plt.close()"
      ],
      "metadata": {
        "id": "64FRBjSiOqVX",
        "colab": {
          "base_uri": "https://localhost:8080/",
          "height": 1000
        },
        "outputId": "61463416-18d1-4c71-b40a-0d272099ac13"
      },
      "execution_count": 24,
      "outputs": [
        {
          "output_type": "display_data",
          "data": {
            "text/plain": [
              "<Figure size 1000x500 with 1 Axes>"
            ],
            "image/png": "[encoded data removed]"
          },
          "metadata": {}
        },
        {
          "output_type": "display_data",
          "data": {
            "text/plain": [
              "<Figure size 1000x500 with 1 Axes>"
            ],
            "image/png": "[encoded data removed]"
          },
          "metadata": {}
        },
        {
          "output_type": "display_data",
          "data": {
            "text/plain": [
              "<Figure size 1000x500 with 1 Axes>"
            ],
            "image/png": "[encoded data removed]"
          },
          "metadata": {}
        }
      ]
    },
    {
      "cell_type": "markdown",
      "source": [
        "## Discussion of Hypothesis and Results From Original Paper"
      ],
      "metadata": {
        "id": "suRdz2bOCbhR"
      }
    },
    {
      "cell_type": "markdown",
      "source": [
        "This table is the result shown in the original paper:\n",
        "\n",
        "![image.png](data:image/png;base64,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)"
      ],
      "metadata": {
        "id": "MAISOuVP6rDS"
      }
    },
    {
      "cell_type": "markdown",
      "source": [
        "Taking result from our reproduction code, the highest AUC score and the F1-score we get is **85.37** and **74.11**.\n",
        "\n",
        "Although we are not able to reproduce the result that the original paper mentioned, we can see that this GNN model with context-aware approach already outperforms other models as of 2022. Hence this draws a clear claim to our first hypothesis:\n",
        "* Dynamic disease maps improve prediction accuracy more than static models.\n",
        "\n",
        "However, by observing the plots we generated above, we can still see some problems:\n",
        "\n",
        "1.   The AUC score converges very fast at the first 10 epochs, and the F-1 score converges after 20 epochs. Recall that for the first layer we used GRU to memorize the structure and add single head attenttion to the GNN layer, this indicates that the model are able to memorize the entire graph structure and predicts well after few epochs, so there is really no need to use 200 epochs mentioned in the original paper to train this model.\n",
        "2.   The AUC score on the validation set has a long tail decreasing trend after 10 epochs. We conjecture that there is an overfit. Hence, we conduct the following experiment to varify our second hypothesis.\n",
        "\n"
      ],
      "metadata": {
        "id": "AyCe_sC95hkF"
      }
    },
    {
      "cell_type": "markdown",
      "source": [
        "## Experiments beyond the original paper"
      ],
      "metadata": {
        "id": "ew7fJiVoDiuk"
      }
    },
    {
      "cell_type": "markdown",
      "source": [
        "To Verify the hypothesis 2, which is increasing the dropout rate in the model will improve its generalization on the validation set by reducing overfitting, we conduct the following experiment:\n",
        "* Modifying the dropout rate to 0.2 (originally set to 0).\n",
        "* Use 20 epochs to train the new model, and then compare its performance with the original model on the validation dataset.\n",
        "\n",
        "See below code:"
      ],
      "metadata": {
        "id": "3ZXCKOnBytds"
      }
    },
    {
      "cell_type": "code",
      "source": [
        "if __name__ == '__main__':\n",
        "    seed = 6669\n",
        "    dataset = 'mimic3'  # 'mimic3' or 'eicu'\n",
        "    task = 'h'  # 'm' or 'h'\n",
        "    use_cuda = True\n",
        "    device = torch.device('cuda' if torch.cuda.is_available() and use_cuda else 'cpu')\n",
        "\n",
        "    code_size = 48\n",
        "    graph_size = 32\n",
        "    hidden_size = 150  # rnn hidden size\n",
        "    t_attention_size = 32\n",
        "    t_output_size = hidden_size\n",
        "    batch_size = 32\n",
        "    epochs = 20 # For the experiment\n",
        "\n",
        "    random.seed(seed)\n",
        "    np.random.seed(seed)\n",
        "    torch.manual_seed(seed)\n",
        "    torch.cuda.manual_seed(seed)\n",
        "\n",
        "    # dataset_path = os.path.join('data', dataset, 'standard')\n",
        "    dataset_path = '/content/drive/MyDrive/CS598HLO/Chet/data/mimic3/standard'\n",
        "    print(dataset_path)\n",
        "    train_path = os.path.join(dataset_path, 'train')\n",
        "\n",
        "    valid_path = os.path.join(dataset_path, 'valid')\n",
        "    test_path = os.path.join(dataset_path, 'test')\n",
        "\n",
        "    # dataset_path = '/content/drive/MyDrive/Colab Notebooks/Chet/data/mimic3/standard/code_adj.npz'\n",
        "\n",
        "    code_adj = load_adj(dataset_path, device=device)\n",
        "    code_num = len(code_adj)\n",
        "    print('loading train data ...')\n",
        "    train_data = EHRDataset(train_path, label=task, batch_size=batch_size, shuffle=True, device=device)\n",
        "    print('loading valid data ...')\n",
        "    valid_data = EHRDataset(valid_path, label=task, batch_size=batch_size, shuffle=False, device=device)\n",
        "    print('loading test data ...')\n",
        "    test_data = EHRDataset(test_path, label=task, batch_size=batch_size, shuffle=False, device=device)\n",
        "\n",
        "    test_historical = historical_hot(valid_data.code_x, code_num, valid_data.visit_lens)\n",
        "\n",
        "    task_conf = {\n",
        "        'm': {\n",
        "            'dropout': 0.45,\n",
        "            'output_size': code_num,\n",
        "            'evaluate_fn': evaluate_codes,\n",
        "            'lr': {\n",
        "                'init_lr': 0.01,\n",
        "                'milestones': [20, 30],\n",
        "                'lrs': [1e-3, 1e-5]\n",
        "            }\n",
        "        },\n",
        "        'h': {\n",
        "            'dropout': 0.2,\n",
        "            'output_size': 1,\n",
        "            'evaluate_fn': evaluate_hf,\n",
        "            'lr': {\n",
        "                'init_lr': 0.01,\n",
        "                'milestones': [2, 3, 20],\n",
        "                'lrs': [1e-3, 1e-4, 1e-5]\n",
        "            }\n",
        "        }\n",
        "    }\n",
        "    output_size = task_conf[task]['output_size']\n",
        "    activation = torch.nn.Sigmoid()\n",
        "    loss_fn = torch.nn.BCELoss()\n",
        "    evaluate_fn = task_conf[task]['evaluate_fn']\n",
        "    dropout_rate = task_conf[task]['dropout']\n",
        "\n",
        "    param_path = os.path.join('data', 'params', dataset, task)\n",
        "    if not os.path.exists(param_path):\n",
        "        os.makedirs(param_path)\n",
        "\n",
        "    model = Model(code_num=code_num, code_size=code_size,\n",
        "                  adj=code_adj, graph_size=graph_size, hidden_size=hidden_size, t_attention_size=t_attention_size,\n",
        "                  t_output_size=t_output_size,\n",
        "                  output_size=output_size, dropout_rate=dropout_rate, activation=activation).to(device)\n",
        "    optimizer = torch.optim.Adam(model.parameters(), lr=0.01)\n",
        "    scheduler = MultiStepLRScheduler(optimizer, epochs, task_conf[task]['lr']['init_lr'],\n",
        "                                     task_conf[task]['lr']['milestones'], task_conf[task]['lr']['lrs'])\n",
        "\n",
        "    pytorch_total_params = sum(p.numel() for p in model.parameters() if p.requires_grad)\n",
        "    print(pytorch_total_params)\n",
        "\n",
        "    losses = []\n",
        "    f1_scores = []\n",
        "    auc_scores = []\n",
        "\n",
        "    for epoch in range(epochs):\n",
        "        print('Epoch %d / %d:' % (epoch + 1, epochs))\n",
        "        model.train()\n",
        "        total_loss = 0.0\n",
        "        total_num = 0\n",
        "        steps = len(train_data)\n",
        "        st = time.time()\n",
        "        scheduler.step()\n",
        "\n",
        "        for step in range(len(train_data)):\n",
        "            optimizer.zero_grad()\n",
        "            code_x, visit_lens, divided, y, neighbors = train_data[step]\n",
        "            output = model(code_x, divided, neighbors, visit_lens).squeeze()\n",
        "            loss = loss_fn(output, y)\n",
        "            loss.backward()\n",
        "            optimizer.step()\n",
        "            total_loss += loss.item() * output_size * len(code_x)\n",
        "            total_num += len(code_x)\n",
        "\n",
        "            end_time = time.time()\n",
        "            remaining_time = format_time((end_time - st) / (step + 1) * (steps - step - 1))\n",
        "            print('\\r    Step %d / %d, remaining time: %s, loss: %.4f'\n",
        "                  % (step + 1, steps, remaining_time, total_loss / total_num), end='')\n",
        "\n",
        "        train_data.on_epoch_end()\n",
        "        et = time.time()\n",
        "        time_cost = format_time(et - st)\n",
        "\n",
        "        avg_loss = total_loss / total_num\n",
        "        losses.append(avg_loss)\n",
        "\n",
        "        print('\\r    Step %d / %d, time cost: %s, loss: %.4f' % (steps, steps, time_cost, total_loss / total_num))\n",
        "        valid_loss, auc_score_, f1_score_ = evaluate_fn(model, valid_data, loss_fn, output_size, test_historical)\n",
        "        # torch.save(model.state_dict(), os.path.join(param_path, '%d.pt' % epoch))\n",
        "\n",
        "        auc_scores.append(auc_score_)\n",
        "        f1_scores.append(f1_score_)\n",
        "\n",
        "        if (epoch + 1) % 10 == 0:\n",
        "          save_path = os.path.join(param_path, f'model-experiment-{epoch+1}.pt')\n",
        "          torch.save(model.state_dict(), save_path)\n",
        "          # print(f'Model saved to {save_path}')"
      ],
      "metadata": {
        "colab": {
          "base_uri": "https://localhost:8080/"
        },
        "id": "sUYrcFsWzi7D",
        "outputId": "f8c8c557-1ea5-4a9e-b125-599878f99011"
      },
      "execution_count": 28,
      "outputs": [
        {
          "output_type": "stream",
          "name": "stdout",
          "text": [
            "/content/drive/MyDrive/CS598HLO/Chet/data/mimic3/standard\n",
            "loading train data ...\n",
            "loading valid data ...\n",
            "loading test data ...\n",
            "721085\n",
            "Epoch 1 / 20:\n",
            "    Step 188 / 188, time cost: 1m30.9s, loss: 0.4921\n",
            "    Evaluation: loss: 0.4879 --- auc: 0.8400 --- f1_score: 0.7258\n",
            "Epoch 2 / 20:\n",
            "    Step 188 / 188, time cost: 1m29.3s, loss: 0.4162\n",
            "    Evaluation: loss: 0.4749 --- auc: 0.8435 --- f1_score: 0.7104\n",
            "Epoch 3 / 20:\n",
            "    Step 188 / 188, time cost: 1m49.8s, loss: 0.3927\n",
            "    Evaluation: loss: 0.4772 --- auc: 0.8433 --- f1_score: 0.7104\n",
            "Epoch 4 / 20:\n",
            "    Step 188 / 188, time cost: 1m50.0s, loss: 0.3879\n",
            "    Evaluation: loss: 0.4821 --- auc: 0.8431 --- f1_score: 0.7072\n",
            "Epoch 5 / 20:\n",
            "    Step 188 / 188, time cost: 1m30.6s, loss: 0.3868\n",
            "    Evaluation: loss: 0.4839 --- auc: 0.8427 --- f1_score: 0.7072\n",
            "Epoch 6 / 20:\n",
            "    Step 188 / 188, time cost: 1m35.9s, loss: 0.3836\n",
            "    Evaluation: loss: 0.4851 --- auc: 0.8422 --- f1_score: 0.7072\n",
            "Epoch 7 / 20:\n",
            "    Step 188 / 188, time cost: 1m37.1s, loss: 0.3804\n",
            "    Evaluation: loss: 0.4863 --- auc: 0.8417 --- f1_score: 0.7072\n",
            "Epoch 8 / 20:\n",
            "    Step 188 / 188, time cost: 1m41.2s, loss: 0.3786\n",
            "    Evaluation: loss: 0.4883 --- auc: 0.8415 --- f1_score: 0.7000\n",
            "Epoch 9 / 20:\n",
            "    Step 188 / 188, time cost: 1m41.5s, loss: 0.3754\n",
            "    Evaluation: loss: 0.4902 --- auc: 0.8412 --- f1_score: 0.7036\n",
            "Epoch 10 / 20:\n",
            "    Step 188 / 188, time cost: 1m29.3s, loss: 0.3732\n",
            "    Evaluation: loss: 0.4915 --- auc: 0.8406 --- f1_score: 0.6964\n",
            "Epoch 11 / 20:\n",
            "    Step 188 / 188, time cost: 1m37.7s, loss: 0.3716\n",
            "    Evaluation: loss: 0.4915 --- auc: 0.8401 --- f1_score: 0.6997\n",
            "Epoch 12 / 20:\n",
            "    Step 188 / 188, time cost: 1m49.3s, loss: 0.3682\n",
            "    Evaluation: loss: 0.4945 --- auc: 0.8396 --- f1_score: 0.6925\n",
            "Epoch 13 / 20:\n",
            "    Step 188 / 188, time cost: 1m50.3s, loss: 0.3657\n",
            "    Evaluation: loss: 0.4957 --- auc: 0.8391 --- f1_score: 0.6961\n",
            "Epoch 14 / 20:\n",
            "    Step 188 / 188, time cost: 1m42.5s, loss: 0.3632\n",
            "    Evaluation: loss: 0.4986 --- auc: 0.8384 --- f1_score: 0.6816\n",
            "Epoch 15 / 20:\n",
            "    Step 188 / 188, time cost: 1m51.0s, loss: 0.3611\n",
            "    Evaluation: loss: 0.5012 --- auc: 0.8381 --- f1_score: 0.6835\n",
            "Epoch 16 / 20:\n",
            "    Step 188 / 188, time cost: 1m43.8s, loss: 0.3588\n",
            "    Evaluation: loss: 0.5010 --- auc: 0.8380 --- f1_score: 0.6814\n",
            "Epoch 17 / 20:\n",
            "    Step 188 / 188, time cost: 1m47.2s, loss: 0.3560\n",
            "    Evaluation: loss: 0.5044 --- auc: 0.8372 --- f1_score: 0.6816\n",
            "Epoch 18 / 20:\n",
            "    Step 188 / 188, time cost: 1m43.7s, loss: 0.3531\n",
            "    Evaluation: loss: 0.5045 --- auc: 0.8374 --- f1_score: 0.6797\n",
            "Epoch 19 / 20:\n",
            "    Step 188 / 188, time cost: 1m47.0s, loss: 0.3499\n",
            "    Evaluation: loss: 0.5060 --- auc: 0.8369 --- f1_score: 0.6814\n",
            "Epoch 20 / 20:\n",
            "    Step 188 / 188, time cost: 1m30.2s, loss: 0.3474\n",
            "    Evaluation: loss: 0.5065 --- auc: 0.8370 --- f1_score: 0.6833\n"
          ]
        }
      ]
    },
    {
      "cell_type": "code",
      "source": [
        "!cp -r  /content/data /content/drive/My\\ Drive/"
      ],
      "metadata": {
        "id": "PIeZqW1aFPRZ"
      },
      "execution_count": 29,
      "outputs": []
    },
    {
      "cell_type": "markdown",
      "source": [
        "By comparing the result we set the dropout rate to 0.2, both the auc score and the f1 score has decreased by 2%. Hence our hypothesis 2 is wrong, which indicates we simply need to run more iterations when training this model."
      ],
      "metadata": {
        "id": "-b7LazhVFd_T"
      }
    },
    {
      "cell_type": "markdown",
      "source": [
        "## Ablation Study"
      ],
      "metadata": {
        "id": "OKoyxjcD_Kac"
      }
    },
    {
      "cell_type": "markdown",
      "source": [
        "To further analyze the effectiveness of each module in Chet,\n",
        "we also compare the varient of the model:\n",
        "\n",
        "* We remove the dynamic part of GNN in our model. Instead of using dynamic subgraphs , we adopt a universal embedding matrix for all diseases and use the global combination graph $A$ for the aggregation of diagnoses and neighbors. We project the universal embeddings into the dimension $p$ with a fully connected layer to replace the embeddings $R$ for unrelated disease.\n",
        "\n",
        "Here is the inference result of this ablation study model after running 50 epochs:\n"
      ],
      "metadata": {
        "id": "PEPZzgpV_Sqj"
      }
    },
    {
      "cell_type": "code",
      "source": [
        "# Load the model\n",
        "model_path = '/content/drive/MyDrive/data/params/mimic3/h/ablation-model-50.pt'\n",
        "model.load_state_dict(torch.load(model_path, map_location=device))\n",
        "model.eval()\n",
        "\n",
        "# Load the dataset\n",
        "test_dataset_path = '/content/drive/MyDrive/CS598HLO/Chet/data/mimic3/standard/'\n",
        "test_path = os.path.join(test_dataset_path, 'test')\n",
        "test_data = EHRDataset(test_path, label=task, batch_size=batch_size, shuffle=False, device=device)\n",
        "\n",
        "# Run evaluation\n",
        "evaluate_hf(model, valid_data, loss_fn, task_conf[task]['output_size'], historical=test_historical)"
      ],
      "metadata": {
        "colab": {
          "base_uri": "https://localhost:8080/"
        },
        "id": "0FEkCzIjBEAi",
        "outputId": "d9c0f3e1-55c0-4f49-c802-1d88dabeab76"
      },
      "execution_count": 33,
      "outputs": [
        {
          "output_type": "stream",
          "name": "stdout",
          "text": [
            "    Evaluation: loss: 0.4915 --- auc: 0.8406 --- f1_score: 0.6964\n"
          ]
        },
        {
          "output_type": "execute_result",
          "data": {
            "text/plain": [
              "(0.4914717061282655, 0.8405975455508837, 0.6963788300835656)"
            ]
          },
          "metadata": {},
          "execution_count": 33
        }
      ]
    },
    {
      "cell_type": "markdown",
      "source": [
        "We can see that there is a drop on both the auc score and the f1 score.\n",
        "\n",
        "Therefore, this ablation study validates the effectiveness of dynamic learning for the disease combination graph."
      ],
      "metadata": {
        "id": "JJ8TqT_YBEXU"
      }
    },
    {
      "cell_type": "markdown",
      "source": [
        "# Discussion\n",
        "\n",
        "\n"
      ],
      "metadata": {
        "id": "qH75TNU71eRH"
      }
    },
    {
      "cell_type": "markdown",
      "source": [
        "First and foremost, we can answer the so far most important question towards this paper: **Yes, this paper is reproducible.**\n",
        "\n",
        "Although we didn't get to the best result mentioned in the original paper, we succeeded to reproduce a overall good result, which shows that the approach of constructing dynamic graphs among patient's previous visited record and the overall disease types is indeed a correct direction.\n",
        "\n",
        "The easy part of this project is the intuition to understand their model architecture: In the original paper, they only use the GRU, single-head attention(with matrix computation), and GNN structure.\n",
        "\n",
        "The hard part, however, is their way to preprocess code, which is hard to follow. They combined the MIMIC-III dataset with three different graph construction methods, which makes the logic really hard to follow without the visualization.\n",
        "\n",
        "Our recommendation to others working in the area for improving reproducibility is that: please maintain good documentation of your code. Taking the original code base for example, the readme file only shows two step: run the preprocessing script, and then run the training script. The direct result come to us is that we spent a lot of time to understand the file structure when reproducing this paper, hence increase the difficulty to improve future results beyond this paper.\n",
        "\n",
        "Overall, this is a good paper which shows the potential in understanding the graph neural network field. One remark is that this paper's implemented model will be powerful after we enlarge the dataset. Specifically, we still need more high quality patient's visiting record to let the model learn the connections between the patient and the typical disease."
      ],
      "metadata": {
        "id": "SGYgGwJ3BQMa"
      }
    },
    {
      "cell_type": "code",
      "source": [
        "!pip install nbconvert\n"
      ],
      "metadata": {
        "id": "RANS4TaL_IcD"
      },
      "execution_count": null,
      "outputs": []
    },
    {
      "cell_type": "code",
      "source": [
        "!jupyter nbconvert --to html '/content/drive/MyDrive/Colab Notebooks/Team35.ipynb'\n"
      ],
      "metadata": {
        "id": "iAYFjowRANGn",
        "colab": {
          "base_uri": "https://localhost:8080/"
        },
        "outputId": "67e0aee0-05ee-412f-989e-f89fe80ec616"
      },
      "execution_count": 34,
      "outputs": [
        {
          "output_type": "stream",
          "name": "stdout",
          "text": [
            "[NbConvertApp] Converting notebook /content/drive/MyDrive/Colab Notebooks/Team35.ipynb to html\n",
            "[NbConvertApp] Writing 1117203 bytes to /content/drive/MyDrive/Colab Notebooks/Team35.html\n"
          ]
        }
      ]
    },
    {
      "cell_type": "code",
      "source": [
        "from google.colab import files\n",
        "files.download('/content/drive/MyDrive/Colab Notebooks/Team35.html')\n"
      ],
      "metadata": {
        "id": "-0xGj4liAVXD",
        "colab": {
          "base_uri": "https://localhost:8080/",
          "height": 17
        },
        "outputId": "8db7654a-6c38-4c86-e96d-67e9a2f285bf"
      },
      "execution_count": 35,
      "outputs": [
        {
          "output_type": "display_data",
          "data": {
            "text/plain": [
              "<IPython.core.display.Javascript object>"
            ],
            "application/javascript": [
              "\n",
              "    async function download(id, filename, size) {\n",
              "      if (!google.colab.kernel.accessAllowed) {\n",
              "        return;\n",
              "      }\n",
              "      const div = document.createElement('div');\n",
              "      const label = document.createElement('label');\n",
              "      label.textContent = `Downloading \"${filename}\": `;\n",
              "      div.appendChild(label);\n",
              "      const progress = document.createElement('progress');\n",
              "      progress.max = size;\n",
              "      div.appendChild(progress);\n",
              "      document.body.appendChild(div);\n",
              "\n",
              "      const buffers = [];\n",
              "      let downloaded = 0;\n",
              "\n",
              "      const channel = await google.colab.kernel.comms.open(id);\n",
              "      // Send a message to notify the kernel that we're ready.\n",
              "      channel.send({})\n",
              "\n",
              "      for await (const message of channel.messages) {\n",
              "        // Send a message to notify the kernel that we're ready.\n",
              "        channel.send({})\n",
              "        if (message.buffers) {\n",
              "          for (const buffer of message.buffers) {\n",
              "            buffers.push(buffer);\n",
              "            downloaded += buffer.byteLength;\n",
              "            progress.value = downloaded;\n",
              "          }\n",
              "        }\n",
              "      }\n",
              "      const blob = new Blob(buffers, {type: 'application/binary'});\n",
              "      const a = document.createElement('a');\n",
              "      a.href = window.URL.createObjectURL(blob);\n",
              "      a.download = filename;\n",
              "      div.appendChild(a);\n",
              "      a.click();\n",
              "      div.remove();\n",
              "    }\n",
              "  "
            ]
          },
          "metadata": {}
        },
        {
          "output_type": "display_data",
          "data": {
            "text/plain": [
              "<IPython.core.display.Javascript object>"
            ],
            "application/javascript": [
              "download(\"download_889defb3-745a-4fb7-944f-aa060f825795\", \"Team35.html\", 1118178)"
            ]
          },
          "metadata": {}
        }
      ]
    },
    {
      "cell_type": "code",
      "source": [],
      "metadata": {
        "id": "ZKHSurvMAdwZ"
      },
      "execution_count": null,
      "outputs": []
    }
  ]
}